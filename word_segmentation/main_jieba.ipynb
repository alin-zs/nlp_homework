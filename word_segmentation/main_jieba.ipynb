{
 "cells": [
  {
   "cell_type": "markdown",
   "id": "5d839294-6043-4784-a4a3-5acd74ca6055",
   "metadata": {},
   "source": [
    "# 结巴分词实践"
   ]
  },
  {
   "cell_type": "markdown",
   "id": "2988952e-4e5a-4c72-9a59-2d4fe8050064",
   "metadata": {},
   "source": [
    "## 结巴分词的三种模式"
   ]
  },
  {
   "cell_type": "markdown",
   "id": "7a937c86-c97b-4b2d-8230-6cb78adc4652",
   "metadata": {},
   "source": [
    "### 全模式"
   ]
  },
  {
   "cell_type": "code",
   "execution_count": 1,
   "id": "9019b179-50b4-47a6-a554-ea20f607c351",
   "metadata": {},
   "outputs": [
    {
     "name": "stderr",
     "output_type": "stream",
     "text": [
      "Building prefix dict from the default dictionary ...\n",
      "Loading model from cache C:\\Users\\15113\\AppData\\Local\\Temp\\jieba.cache\n",
      "Loading model cost 1.759 seconds.\n",
      "Prefix dict has been built successfully.\n"
     ]
    },
    {
     "name": "stdout",
     "output_type": "stream",
     "text": [
      "Full Mode: 我/来到/北京/清华/清华大学/华大/大学\n"
     ]
    }
   ],
   "source": [
    "import jieba\n",
    "seg_list = jieba.cut(\"我来到北京清华大学\",cut_all=True)\n",
    "print(\"Full Mode: \"+\"/\".join(seg_list)) # 全模式"
   ]
  },
  {
   "cell_type": "markdown",
   "id": "75ea163a-47a2-4a1a-906a-5aec51bbb734",
   "metadata": {},
   "source": [
    "### 精确模式"
   ]
  },
  {
   "cell_type": "code",
   "execution_count": 3,
   "id": "0606dafd-f270-4176-8884-0a39d2bc125d",
   "metadata": {},
   "outputs": [
    {
     "name": "stdout",
     "output_type": "stream",
     "text": [
      "Default Mode: 我/来到/北京/清华大学\n"
     ]
    }
   ],
   "source": [
    "seg_list = jieba.cut(\"我来到北京清华大学\",cut_all=False)\n",
    "print(\"Default Mode: \"+\"/\".join(seg_list)) #精确模式"
   ]
  },
  {
   "cell_type": "code",
   "execution_count": 4,
   "id": "fb0b7a5e-1bf0-48a9-a902-716dacec8a4a",
   "metadata": {},
   "outputs": [
    {
     "name": "stdout",
     "output_type": "stream",
     "text": [
      "小明,硕士,毕业,于,中国,科学,学院,科学院,中国科学院,计算,计算所,，,后,在,日本,京都,大学,日本京都大学,深造\n"
     ]
    }
   ],
   "source": [
    "seg_list = jieba.cut_for_search(\"小明硕士毕业于中国科学院计算所，后在日本京都大学深造\") # 搜索引擎模式\n",
    "print(\",\".join(seg_list))"
   ]
  },
  {
   "cell_type": "markdown",
   "id": "505f8b4e-84cf-4238-9680-ea781e4fca98",
   "metadata": {},
   "source": [
    "## 载入词典"
   ]
  },
  {
   "cell_type": "code",
   "execution_count": 3,
   "id": "651101bb-0c63-437f-9812-ebcd1d82eb04",
   "metadata": {},
   "outputs": [
    {
     "name": "stderr",
     "output_type": "stream",
     "text": [
      "Building prefix dict from the default dictionary ...\n",
      "Loading model from cache C:\\Users\\15113\\AppData\\Local\\Temp\\jieba.cache\n",
      "Loading model cost 1.692 seconds.\n",
      "Prefix dict has been built successfully.\n"
     ]
    },
    {
     "name": "stdout",
     "output_type": "stream",
     "text": [
      "Default Mode: 林泽松/即将/是/自然语言/处理/方面/的/高手\n"
     ]
    }
   ],
   "source": [
    "import jieba\n",
    "jieba.load_userdict(\"userdict.txt\")\n",
    "seg_list = jieba.cut(\"林泽松即将是自然语言处理方面的高手\", cut_all = False, HMM=False)\n",
    "print(\"Default Mode: \" + \"/\".join(seg_list))"
   ]
  },
  {
   "cell_type": "code",
   "execution_count": 1,
   "id": "636a0e60-7428-43de-b7d1-2c912713dcbb",
   "metadata": {},
   "outputs": [
    {
     "name": "stderr",
     "output_type": "stream",
     "text": [
      "Building prefix dict from the default dictionary ...\n",
      "Loading model from cache C:\\Users\\15113\\AppData\\Local\\Temp\\jieba.cache\n"
     ]
    },
    {
     "name": "stdout",
     "output_type": "stream",
     "text": [
      "========================================\n",
      " TF-IDF\n",
      "----------------------------------------\n"
     ]
    },
    {
     "name": "stderr",
     "output_type": "stream",
     "text": [
      "Loading model cost 1.782 seconds.\n",
      "Prefix dict has been built successfully.\n"
     ]
    },
    {
     "name": "stdout",
     "output_type": "stream",
     "text": [
      "河北省人民政府 0.47415056901111113\n",
      "一流大学 0.4634956774407407\n",
      "燕山大学 0.4427691667740741\n",
      "学科建设 0.42955898366666667\n",
      "大学 0.4232750535222222\n",
      "----------------------------------------\n",
      " TextRank\n",
      "----------------------------------------\n",
      "重点 1.0\n",
      "大学 0.9635631335578456\n",
      "国家 0.9273412563201143\n",
      "河北省 0.6235965850264276\n",
      "共建 0.5433775103953393\n"
     ]
    }
   ],
   "source": [
    "#encoding=utf-8\n",
    "from __future__ import unicode_literals\n",
    "import sys\n",
    "sys.path.append(\"../\")\n",
    "\n",
    "import jieba\n",
    "import jieba.posseg\n",
    "import jieba.analyse\n",
    "\n",
    "sentence = \"燕山大学是河北省人民政府、教育部、工业和信息化部、国家国防科技工业局四方共建的全国重点大学，河北省重点支持的国家一流大学和世界一流学科建设高校，北京高科大学联盟成员。\"\n",
    "\n",
    "print('='*40)\n",
    "print(' TF-IDF')\n",
    "print('-'*40)\n",
    "\n",
    "# 使用 TF-IDF 提取前 5 个关键词\n",
    "top_5_keywords_tfidf = jieba.analyse.extract_tags(sentence, topK=5, withWeight=True)\n",
    "for keyword, weight in top_5_keywords_tfidf:\n",
    "    print(f'{keyword} {weight}')\n",
    "\n",
    "print('-'*40)\n",
    "print(' TextRank')\n",
    "print('-'*40)\n",
    "\n",
    "# 使用 TextRank 提取前 5 个关键词\n",
    "top_5_keywords_textrank = jieba.analyse.textrank(sentence, topK=5, withWeight=True)\n",
    "for keyword, weight in top_5_keywords_textrank:\n",
    "    print(f'{keyword} {weight}')\n",
    "    "
   ]
  },
  {
   "cell_type": "code",
   "execution_count": null,
   "id": "b7849fdf-9b0d-46b5-a0b2-76ae3b03b9be",
   "metadata": {},
   "outputs": [],
   "source": []
  }
 ],
 "metadata": {
  "kernelspec": {
   "display_name": "Python 3 (ipykernel)",
   "language": "python",
   "name": "python3"
  },
  "language_info": {
   "codemirror_mode": {
    "name": "ipython",
    "version": 3
   },
   "file_extension": ".py",
   "mimetype": "text/x-python",
   "name": "python",
   "nbconvert_exporter": "python",
   "pygments_lexer": "ipython3",
   "version": "3.9.21"
  }
 },
 "nbformat": 4,
 "nbformat_minor": 5
}
